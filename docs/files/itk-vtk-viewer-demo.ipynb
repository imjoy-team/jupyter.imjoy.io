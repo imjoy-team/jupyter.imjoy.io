{
  "cells": [
    {
      "cell_type": "markdown",
      "metadata": {},
      "source": [
        "# ITK/VTK Viewer Demo\n",
        "\n",
        "This notebook demonstrate how to use [ITK/VTK viewer](https://kitware.github.io/itk-vtk-viewer/docs/) with the ImJoy JupyterLab Extension, please make sure you have installed `imjoy-jupyterlab-extension`. If you use https://jupyter.imjoy.io it will be installed automatically. You can find an ImJoy icon in the notebook toolbar if the extension is correctly installed."
      ]
    },
    {
      "cell_type": "code",
      "execution_count": 11,
      "metadata": {
        "trusted": true
      },
      "outputs": [],
      "source": [
        "import numpy as np\n",
        "from imjoy import api\n",
        "\n",
        "image_array = np.random.randint(0, 255, [10,10,10], dtype='uint8')\n",
        "\n",
        "async def setup():\n",
        "    viewer = await api.createWindow(\n",
        "        src=\"https://oeway.github.io/itk-vtk-viewer/\"\n",
        "    )\n",
        "    await viewer.setImage(image_array)\n",
        "\n",
        "api.export({\"setup\": setup})"
      ]
    }
  ],
  "metadata": {
    "kernelspec": {
      "display_name": "Pyolite",
      "language": "python",
      "name": "python"
    },
    "language_info": {
      "codemirror_mode": {
        "name": "python",
        "version": 3
      },
      "file_extension": ".py",
      "mimetype": "text/x-python",
      "name": "python",
      "nbconvert_exporter": "python",
      "pygments_lexer": "ipython3",
      "version": "3.8"
    },
    "orig_nbformat": 4
  },
  "nbformat": 4,
  "nbformat_minor": 4
}
