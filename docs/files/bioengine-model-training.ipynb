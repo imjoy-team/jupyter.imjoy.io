{
  "metadata": {
    "orig_nbformat": 4,
    "language_info": {
      "codemirror_mode": {
        "name": "python",
        "version": 3
      },
      "file_extension": ".py",
      "mimetype": "text/x-python",
      "name": "python",
      "nbconvert_exporter": "python",
      "pygments_lexer": "ipython3",
      "version": "3.8"
    },
    "kernelspec": {
      "name": "python",
      "display_name": "Pyolite",
      "language": "python"
    }
  },
  "nbformat_minor": 4,
  "nbformat": 4,
  "cells": [
    {
      "cell_type": "markdown",
      "source": "# Training models with BioEngine",
      "metadata": {}
    },
    {
      "cell_type": "code",
      "source": "import micropip\nawait micropip.install('pyotritonclient')\n\nimport io\nimport asyncio\nimport os\nfrom pyotritonclient import SequenceExcutor, execute\nimport numpy as np\nimport pickle\nimport imageio\nfrom js import fetch\n\nasync def download_data(url):\n    response = await fetch(url)\n    bytes = await response.arrayBuffer()\n    bytes = bytes.to_py()\n    buffer = io.BytesIO(bytes)\n    return pickle.load(buffer)\n\ntest_samples = await download_data(\"https://raw.githubusercontent.com/imjoy-team/imjoy-tutorials/master/2-bioengine/test_samples_4.pkl\")\ntrain_samples = await download_data(\"https://raw.githubusercontent.com/imjoy-team/imjoy-tutorials/master/2-bioengine/train_samples_4.pkl\")\nprint(\"Dataset downloaded\", len(train_samples), len(test_samples))\n\n(image, labels, info) = train_samples[0]",
      "metadata": {
        "trusted": true
      },
      "execution_count": 3,
      "outputs": [
        {
          "name": "stdout",
          "text": "Dataset downloaded 4 4\n",
          "output_type": "stream"
        }
      ]
    },
    {
      "cell_type": "markdown",
      "source": "## Train a cellpose model",
      "metadata": {}
    },
    {
      "cell_type": "code",
      "source": "\nasync def train(model_id=102, epochs=1, model_token = None, pretrained_model = \"cyto\"):\n    \"\"\"\n    Train a model through the BioEngine\n    # set pretrained_model to None if you want to train from scratch\n    # set model_token to a string if you want to protect the model\n    # from overwriting by other users\n    \"\"\"\n    seq = SequenceExcutor(\n        server_url=\"https://ai.imjoy.io/triton\",\n        model_name=\"cellpose-train\",\n        decode_json=True,\n        sequence_id=model_id,\n    )\n    for epoch in range(epochs):\n        losses = []\n        for (image, labels, info) in train_samples:\n            inputs = [\n                image.astype(\"float32\"),\n                labels.astype(\"uint16\"),\n                {\n                    \"steps\": 16,\n                    \"pretrained_model\": pretrained_model,\n                    \"resume\": True,\n                    \"model_token\": model_token,\n                    \"channels\": [1, 2],\n                    \"diam_mean\": 30,\n                },\n            ]\n            result = await seq.step(inputs, select_outputs=[\"info\"])\n            losses.append(result[\"info\"][0][\"loss\"])\n        avg_loss = np.array(losses).mean()\n        print(f\"Epoch {epoch}  loss={avg_loss}\")\n\n    valid_image = test_samples[0][0].astype(\"float32\")\n    valid_labels = np.zeros_like(labels).astype(\"uint16\")\n    result = await seq.end(\n        [\n            valid_image,\n            valid_labels,\n            {\n                \"resume\": True,\n                \"model_token\": model_token,\n                \"channels\": [1, 2],\n                \"diameter\": 100.0,\n                \"model_format\": \"bioimageio\",\n            },\n        ],\n        decode_json=True,\n        select_outputs=[\"info\"], # \"model\"\n    )\n    # We don't need to download the model in the browser\n    # Save the weights\n    # model_package = result[\"model\"][0]\n    # filename = result[\"info\"][0][\"model_files\"][0]\n    # with open_elfinder(filename, \"wb\") as fil:\n    #     fil.write(model_package)\n    # print(f\"Model package saved to {filename}\")\n\nawait train()",
      "metadata": {
        "trusted": true
      },
      "execution_count": 6,
      "outputs": [
        {
          "name": "stdout",
          "text": "Epoch 0  loss=0.0967376726330258\n",
          "output_type": "stream"
        }
      ]
    },
    {
      "cell_type": "markdown",
      "source": "# Use the trained model for prediction",
      "metadata": {}
    },
    {
      "cell_type": "code",
      "source": "async def predict(model_id=102):\n    # Start the prediction\n    seq = SequenceExcutor(\n        server_url=\"https://ai.imjoy.io/triton\",\n        model_name=\"cellpose-predict\",\n        decode_json=True,\n        sequence_id=model_id,\n    )\n    for i, sample in enumerate(test_samples):\n        inputs = [sample[0].astype(\"float32\"), {\"channels\": [1, 2], \"diameter\": 100}]\n        results = await seq.step(inputs, select_outputs=[\"mask\"])\n        with open_elfinder(f\"/home/test_result_{i}.png\", 'wb') as f:\n            imageio.imwrite(f, results[\"mask\"].astype(\"uint8\"), format=\"PNG\")\n        print(results[\"mask\"].shape, results[\"mask\"].mean())\n\n    await seq.end()\n\nawait predict()",
      "metadata": {
        "trusted": true
      },
      "execution_count": 11,
      "outputs": [
        {
          "name": "stdout",
          "text": "(512, 512, 1) 5.615100860595703\n(512, 512, 1) 3.2802772521972656\n(512, 512, 1) 3.4205169677734375\n(512, 512, 1) 3.5008277893066406\n",
          "output_type": "stream"
        }
      ]
    },
    {
      "cell_type": "code",
      "source": "async def setup():\n    fm = await api.createWindow(\n        src=\"https://jupyter.imjoy.io/elFinder/index.html\"\n    )\n\napi.export({\"setup\": setup})",
      "metadata": {
        "trusted": true
      },
      "execution_count": 12,
      "outputs": [
        {
          "output_type": "display_data",
          "data": {
            "text/plain": "<IPython.core.display.Javascript object>",
            "application/javascript": "window.connectPlugin && window.connectPlugin(\"a93cc05d-94ef-4cb0-9eb6-3a78ba530629\")"
          },
          "metadata": {}
        },
        {
          "output_type": "display_data",
          "data": {
            "text/plain": "<IPython.core.display.HTML object>",
            "text/html": "<div id=\"59dbc04f-6c2c-4845-ac51-631ee88d6972\"></div>"
          },
          "metadata": {}
        },
        {
          "execution_count": 12,
          "output_type": "execute_result",
          "data": {
            "text/plain": "<_GatheringFuture pending>"
          },
          "metadata": {}
        }
      ]
    },
    {
      "cell_type": "code",
      "source": "",
      "metadata": {},
      "execution_count": null,
      "outputs": []
    }
  ]
}