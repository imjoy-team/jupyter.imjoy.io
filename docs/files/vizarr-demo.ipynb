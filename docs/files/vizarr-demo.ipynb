{
  "cells": [
    {
      "cell_type": "markdown",
      "metadata": {},
      "source": [
        "# ImJoy JupyterLab Extension Demo\n",
        "\n",
        "This notebook demonstrate how to use [Vizarr viewer](https://github.com/hms-dbmi/vizarr) with the ImJoy JupyterLab Extension, please make sure you have installed `imjoy-jupyterlab-extension`. If you use https://jupyter.imjoy.io it will be installed automatically. You can find an ImJoy icon in the notebook toolbar if the extension is correctly installed."
      ]
    },
    {
      "cell_type": "markdown",
      "metadata": {},
      "source": [
        "# Prepare the ImJoy plugin for zarr visualization"
      ]
    },
    {
      "cell_type": "code",
      "execution_count": null,
      "metadata": {
        "trusted": true
      },
      "outputs": [],
      "source": [
        "import zarr\n",
        "from imjoy import api\n",
        "from imjoy_rpc import register_default_codecs\n",
        "\n",
        "register_default_codecs()\n",
        "\n",
        "class Plugin:\n",
        "    def __init__(self, images, view_state=None):\n",
        "        if not isinstance(images, list):\n",
        "            images = [images]\n",
        "        self.images = images\n",
        "        self.view_state = view_state\n",
        "\n",
        "    async def setup(self):\n",
        "        pass\n",
        "\n",
        "    async def run(self, ctx):\n",
        "        viewer = await api.createWindow(\n",
        "            type=\"vizarr\", src=\"https://hms-dbmi.github.io/vizarr\"\n",
        "        )\n",
        "        if self.view_state:\n",
        "            await viewer.set_view_state(self.view_state)\n",
        "        for img in self.images:\n",
        "            await viewer.add_image(img)\n",
        "\n",
        "\n",
        "def run_vizarr(images, view_state=None):\n",
        "    api.export(Plugin(images, view_state))\n"
      ]
    },
    {
      "cell_type": "markdown",
      "metadata": {},
      "source": [
        "# Create an OME Zarr image"
      ]
    },
    {
      "cell_type": "code",
      "execution_count": null,
      "metadata": {
        "trusted": true
      },
      "outputs": [],
      "source": [
        "import zarr\n",
        "import numpy as np\n",
        "import os\n",
        "from skimage import data\n",
        "from skimage.transform import pyramid_gaussian\n",
        "\n",
        "# Modified from https://github.com/ome/ome-zarr-py/blob/master/tests/create_test_data.py\n",
        "def create_ome_zarr(zarr_directory, dtype=\"f4\"):\n",
        "\n",
        "    base = np.tile(data.astronaut(), (4, 4, 1))\n",
        "    gaussian = list(pyramid_gaussian(base, downscale=2, max_layer=3, multichannel=True))\n",
        "\n",
        "    pyramid = []\n",
        "    # convert each level of pyramid into 5D image (t, c, z, y, x)\n",
        "    for pixels in gaussian:\n",
        "        red = pixels[:, :, 0]\n",
        "        green = pixels[:, :, 1]\n",
        "        blue = pixels[:, :, 2]\n",
        "        # wrap to make 5D: (t, c, z, y, x)\n",
        "        pixels = np.array([np.array([red]), np.array([green]), np.array([blue])])\n",
        "        pixels = np.array([pixels]).astype(dtype)\n",
        "        pyramid.append(pixels)\n",
        "\n",
        "    store = zarr.DirectoryStore(zarr_directory)\n",
        "    grp = zarr.group(store, overwrite=True)\n",
        "    paths = []\n",
        "    for path, dataset in enumerate(pyramid):\n",
        "        grp.create_dataset(str(path), data=pyramid[path])\n",
        "        paths.append({\"path\": str(path)})\n",
        "\n",
        "    image_data = {\n",
        "        \"id\": 1,\n",
        "        \"channels\": [\n",
        "            {\n",
        "                \"color\": \"FF0000\",\n",
        "                \"window\": {\"start\": 0, \"end\": 1},\n",
        "                \"label\": \"Red\",\n",
        "                \"active\": True,\n",
        "            },\n",
        "            {\n",
        "                \"color\": \"00FF00\",\n",
        "                \"window\": {\"start\": 0, \"end\": 1},\n",
        "                \"label\": \"Green\",\n",
        "                \"active\": True,\n",
        "            },\n",
        "            {\n",
        "                \"color\": \"0000FF\",\n",
        "                \"window\": {\"start\": 0, \"end\": 1},\n",
        "                \"label\": \"Blue\",\n",
        "                \"active\": True,\n",
        "            },\n",
        "        ],\n",
        "        \"rdefs\": {\n",
        "            \"model\": \"color\",\n",
        "        },\n",
        "    }\n",
        "\n",
        "    multiscales = [\n",
        "        {\n",
        "            \"version\": \"0.1\",\n",
        "            \"datasets\": paths,\n",
        "        }\n",
        "    ]\n",
        "    grp.attrs[\"multiscales\"] = multiscales\n",
        "    grp.attrs[\"omero\"] = image_data\n",
        "\n",
        "# Save it to /tmp/astronaut.zarr\n",
        "create_ome_zarr(\"/tmp/astronaut.zarr\")"
      ]
    },
    {
      "cell_type": "markdown",
      "metadata": {},
      "source": [
        "# Load the OME Zarr image"
      ]
    },
    {
      "cell_type": "code",
      "execution_count": null,
      "metadata": {
        "trusted": true
      },
      "outputs": [],
      "source": [
        "import zarr\n",
        "\n",
        "multiscale_astronaut = zarr.open(\"/tmp/astronaut.zarr\", mode=\"r\") # open the zarr created above in jupyter kernel"
      ]
    },
    {
      "cell_type": "markdown",
      "metadata": {},
      "source": [
        "# Display the zarr image with vizarr"
      ]
    },
    {
      "cell_type": "code",
      "execution_count": null,
      "metadata": {
        "trusted": true
      },
      "outputs": [],
      "source": [
        "# Create Zarr \n",
        "astronaut_img = { \"source\": multiscale_astronaut, \"name\": \"astronaut\" }\n",
        "\n",
        "# Run vizarr\n",
        "run_vizarr(astronaut_img)"
      ]
    }
  ],
  "metadata": {
    "kernelspec": {
      "display_name": "Pyolite",
      "language": "python",
      "name": "python"
    },
    "language_info": {
      "codemirror_mode": {
        "name": "python",
        "version": 3
      },
      "file_extension": ".py",
      "mimetype": "text/x-python",
      "name": "python",
      "nbconvert_exporter": "python",
      "pygments_lexer": "ipython3",
      "version": "3.8"
    },
    "orig_nbformat": 4
  },
  "nbformat": 4,
  "nbformat_minor": 4
}
