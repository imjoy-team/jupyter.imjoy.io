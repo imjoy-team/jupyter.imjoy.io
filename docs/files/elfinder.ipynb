{
 "cells": [
  {
   "cell_type": "markdown",
   "metadata": {},
   "source": [
    "# Using elFinder in JupyterLite\n",
    "\n",
    "Show the elFinder file manager"
   ]
  },
  {
   "cell_type": "code",
   "execution_count": null,
   "metadata": {},
   "outputs": [],
   "source": [
    "from imjoy import api\n",
    "\n",
    "async def setup():\n",
    "    fm = await api.createWindow(\n",
    "        src=\"https://jupyter.imjoy.io/elFinder/index.html\"\n",
    "    )\n",
    "\n",
    "api.export({\"setup\": setup})"
   ]
  },
  {
   "cell_type": "markdown",
   "metadata": {},
   "source": [
    "## Read and write files with elFinder"
   ]
  },
  {
   "cell_type": "code",
   "execution_count": null,
   "metadata": {},
   "outputs": [],
   "source": [
    "import imageio\n",
    "from imjoy_rpc.utils import open_elfinder\n",
    "\n",
    "image_file = open_elfinder(\"/home/image.png\", \"rb\")\n",
    "img = imageio.imread(image_file) \n",
    "img.shape"
   ]
  },
  {
   "cell_type": "code",
   "execution_count": null,
   "metadata": {},
   "outputs": [],
   "source": [
    "with open_elfinder(\"/home/my-data.txt\", \"w\") as f:\n",
    "    f.write(\"hello\")"
   ]
  }
 ],
 "metadata": {
  "language_info": {
   "name": "python"
  },
  "orig_nbformat": 4
 },
 "nbformat": 4,
 "nbformat_minor": 2
}
